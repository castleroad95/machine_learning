{
 "cells": [
  {
   "cell_type": "code",
   "execution_count": 1,
   "metadata": {},
   "outputs": [
    {
     "name": "stdout",
     "output_type": "stream",
     "text": [
      "irist 데이터 셋 크기: 150\n",
      "1 교차 검증 정확도: 1.0, 학습데이터 크기:120, 검증데이터 크기:30\n",
      "1검증 세트 인덱스:[ 0  1  2  3  4  5  6  7  8  9 10 11 12 13 14 15 16 17 18 19 20 21 22 23\n",
      " 24 25 26 27 28 29]\n",
      "2 교차 검증 정확도: 0.9667, 학습데이터 크기:120, 검증데이터 크기:30\n",
      "2검증 세트 인덱스:[30 31 32 33 34 35 36 37 38 39 40 41 42 43 44 45 46 47 48 49 50 51 52 53\n",
      " 54 55 56 57 58 59]\n",
      "3 교차 검증 정확도: 0.8667, 학습데이터 크기:120, 검증데이터 크기:30\n",
      "3검증 세트 인덱스:[60 61 62 63 64 65 66 67 68 69 70 71 72 73 74 75 76 77 78 79 80 81 82 83\n",
      " 84 85 86 87 88 89]\n",
      "4 교차 검증 정확도: 0.9333, 학습데이터 크기:120, 검증데이터 크기:30\n",
      "4검증 세트 인덱스:[ 90  91  92  93  94  95  96  97  98  99 100 101 102 103 104 105 106 107\n",
      " 108 109 110 111 112 113 114 115 116 117 118 119]\n",
      "5 교차 검증 정확도: 0.7333, 학습데이터 크기:120, 검증데이터 크기:30\n",
      "5검증 세트 인덱스:[120 121 122 123 124 125 126 127 128 129 130 131 132 133 134 135 136 137\n",
      " 138 139 140 141 142 143 144 145 146 147 148 149]\n",
      "검증 정확도 평균: 0.9\n"
     ]
    }
   ],
   "source": [
    "from sklearn.tree import DecisionTreeClassifier\n",
    "from sklearn.metrics import accuracy_score\n",
    "from sklearn.model_selection import KFold\n",
    "import numpy as  np\n",
    "from sklearn.datasets import load_iris\n",
    "\n",
    "iris=load_iris()\n",
    "features=iris.data\n",
    "label=iris.target\n",
    "dt_clf=DecisionTreeClassifier(random_state=156)\n",
    "\n",
    "#5개의 폴드 세트로 분리하는 KFold 객체와 폴드 세트별 정확도를 담을 리스트 객체 생성\n",
    "kfold=KFold(n_splits=5)\n",
    "cv_accuracy=[]\n",
    "print('irist 데이터 셋 크기:', features.shape[0])\n",
    "\n",
    "count=0\n",
    "for train_index,test_index in kfold.split(features):\n",
    "    x_train,x_test=features[train_index],features[test_index]\n",
    "    y_train,y_test=label[train_index],label[test_index]\n",
    "    \n",
    "#학습\n",
    "    dt_clf.fit(x_train,y_train)\n",
    "    pred=dt_clf.predict(x_test)\n",
    "    count+=1\n",
    "    accuracy=np.round(accuracy_score(y_test,pred),4)\n",
    "    train_size=x_train.shape[0]\n",
    "    test_size=x_test.shape[0]\n",
    "    print('{0} 교차 검증 정확도: {1}, 학습데이터 크기:{2}, 검증데이터 크기:{3}'.\n",
    "         format(count,accuracy,train_size,test_size))\n",
    "    print('{0}검증 세트 인덱스:{1}'.format(count,test_index))\n",
    "    cv_accuracy.append(accuracy)\n",
    "\n",
    "print('검증 정확도 평균:',np.mean(cv_accuracy))\n",
    "    "
   ]
  },
  {
   "cell_type": "code",
   "execution_count": 2,
   "metadata": {},
   "outputs": [
    {
     "name": "stdout",
     "output_type": "stream",
     "text": [
      "1 교차 검증 정확도: 0.9667, 학습데이터 크기:120, 검증데이터 크기:30\n",
      "1검증 세트 인덱스:[  0   1   2   3   4   5   6   7   8   9  50  51  52  53  54  55  56  57\n",
      "  58  59 100 101 102 103 104 105 106 107 108 109]\n",
      "2 교차 검증 정확도: 0.9667, 학습데이터 크기:120, 검증데이터 크기:30\n",
      "2검증 세트 인덱스:[ 10  11  12  13  14  15  16  17  18  19  60  61  62  63  64  65  66  67\n",
      "  68  69 110 111 112 113 114 115 116 117 118 119]\n",
      "3 교차 검증 정확도: 0.9, 학습데이터 크기:120, 검증데이터 크기:30\n",
      "3검증 세트 인덱스:[ 20  21  22  23  24  25  26  27  28  29  70  71  72  73  74  75  76  77\n",
      "  78  79 120 121 122 123 124 125 126 127 128 129]\n",
      "4 교차 검증 정확도: 0.9667, 학습데이터 크기:120, 검증데이터 크기:30\n",
      "4검증 세트 인덱스:[ 30  31  32  33  34  35  36  37  38  39  80  81  82  83  84  85  86  87\n",
      "  88  89 130 131 132 133 134 135 136 137 138 139]\n",
      "5 교차 검증 정확도: 1.0, 학습데이터 크기:120, 검증데이터 크기:30\n",
      "5검증 세트 인덱스:[ 40  41  42  43  44  45  46  47  48  49  90  91  92  93  94  95  96  97\n",
      "  98  99 140 141 142 143 144 145 146 147 148 149]\n",
      "검증 정확도 평균: 0.9600200000000001\n"
     ]
    }
   ],
   "source": [
    "#stratified KFold로 수행(클래스가 불균형할때 사용)\n",
    "#KFold(n_split=3)과 StratifiedKFold(n_splits=3)\n",
    "#학습레이블의 데이터 분포와 검증 레이블의 데이터 분포 비교\n",
    "\n",
    "from sklearn.model_selection import StratifiedKFold\n",
    "\n",
    "skfold=StratifiedKFold(n_splits=5)\n",
    "cv_accuracy=[]\n",
    "\n",
    "count=0\n",
    "for train_index,test_index in skfold.split(features,label):\n",
    "    x_train,x_test=features[train_index],features[test_index]\n",
    "    y_train,y_test=label[train_index],label[test_index]\n",
    "    \n",
    "#학습\n",
    "    dt_clf.fit(x_train,y_train)\n",
    "    pred=dt_clf.predict(x_test)\n",
    "    count+=1\n",
    "    accuracy=np.round(accuracy_score(y_test,pred),4)\n",
    "    train_size=x_train.shape[0]\n",
    "    test_size=x_test.shape[0]\n",
    "    print('{0} 교차 검증 정확도: {1}, 학습데이터 크기:{2}, 검증데이터 크기:{3}'.\n",
    "         format(count,accuracy,train_size,test_size))\n",
    "    print('{0}검증 세트 인덱스:{1}'.format(count,test_index))\n",
    "    cv_accuracy.append(accuracy)\n",
    "\n",
    "print('검증 정확도 평균:',np.mean(cv_accuracy))"
   ]
  },
  {
   "cell_type": "markdown",
   "metadata": {},
   "source": [
    "### 기본 회귀 모델\n",
    "\n",
    "- 사이킷런의 DummyRegressor를 사용하여 기본 모델로 사용할 간단한 더미 모델 생성\n",
    "- DummyRegressor 클래스는 실제 모델과 비교하기 위해 사용할 수 있는 매우 간단한 모델 생성\n",
    "- DummyRegressor 클래스는 stategy 매개변수를 사용해 예측 방법 지정\n",
    "\n",
    "- strategy를 constant로 지정하고 constant 매개변수를 사용하면 모든 샘플에 대해 일정한 값으로 예측하는 더미 회귀 모델 생성 가능\n",
    "- strategy가 mean일 때 평균값으로 예측, median일 때 중간값으로 예측\n",
    "- quantile로 지정하면 quantile 매개변수에 지정한 분위값을 예측으로 사용\n",
    "\n",
    "- 분류 모델의 성능을 측정하는 일반적인 방법은 랜덤한 추측보다 얼마나 더 나은지 비교하는 것이며 비교를 쉽게 할 수 있는 DummyClassifier를 사용\n",
    "- stratified 옵션은 훈련 세트에 잇는 타깃 벡터의 클래스 비율에 비례하는 예측 생성\n",
    "- uniform옵션은 클래스 비중이 균등하도록 랜덤하게 예측\n",
    "- most_frequent옵션은 무조건 훈련 세트에서 가장 많은 타깃 레이블로 예측 생성"
   ]
  },
  {
   "cell_type": "code",
   "execution_count": 25,
   "metadata": {},
   "outputs": [
    {
     "data": {
      "text/plain": [
       "0.42105263157894735"
      ]
     },
     "execution_count": 25,
     "metadata": {},
     "output_type": "execute_result"
    }
   ],
   "source": [
    "from sklearn.datasets import load_iris\n",
    "from sklearn.dummy import DummyClassifier\n",
    "from sklearn.model_selection import train_test_split\n",
    "\n",
    "# 데이터 로드\n",
    "iris = load_iris() \n",
    "features, target = iris.data, iris.target # 특성을 만듭니다.\n",
    "\n",
    "# 훈련 세트와 테스트 세트로 분류\n",
    "features_train, features_test, target_train, target_test = train_test_split(\n",
    "    features, target, random_state=0)\n",
    "\n",
    "# 더미 분류 모델 생성\n",
    "dummy = DummyClassifier(strategy='uniform', random_state=1)\n",
    "\n",
    "# 더미 회귀 모델 훈련\n",
    "dummy.fit(features_train, target_train)\n",
    "\n",
    "# 정확도\n",
    "dummy.score(features_test, target_test)"
   ]
  },
  {
   "cell_type": "code",
   "execution_count": 27,
   "metadata": {},
   "outputs": [
    {
     "data": {
      "text/plain": [
       "0.9736842105263158"
      ]
     },
     "execution_count": 27,
     "metadata": {},
     "output_type": "execute_result"
    }
   ],
   "source": [
    "#훈련된 모델과 기본 모델을 비교\n",
    "\n",
    "from sklearn.ensemble import RandomForestClassifier\n",
    "\n",
    "classifier = RandomForestClassifier()\n",
    "classifier.fit(features_train, target_train)\n",
    "classifier.score(features_test, target_test)  #정확도"
   ]
  },
  {
   "cell_type": "code",
   "execution_count": 19,
   "metadata": {
    "scrolled": true
   },
   "outputs": [
    {
     "data": {
      "text/plain": [
       "array([2, 2, 2, 2, 2, 2, 2, 2, 2, 2, 2, 2, 2, 2, 2, 2, 2, 2, 2, 2, 2, 2,\n",
       "       2, 2, 2, 2, 2, 2, 2, 2, 2, 2, 2, 2, 2, 2, 2, 2])"
      ]
     },
     "execution_count": 19,
     "metadata": {},
     "output_type": "execute_result"
    }
   ],
   "source": [
    "# 더미 분류 모델 생성\n",
    "dummy = DummyClassifier(strategy='most_frequent', random_state=1)\n",
    "\n",
    "dummy.fit(features_train, target_train)\n",
    "#훈련세트 타깃에서 가장 많은 값으로 예측\n",
    "dummy.predict(features_test)"
   ]
  },
  {
   "cell_type": "markdown",
   "metadata": {},
   "source": [
    "### 이진 분류기의 예측 평가\n",
    "\n",
    "- 사이킷런의 cross_val_score 함수를 사용하여 교차검증을 수행할때 scoring 매개변수에 성능 지표 중 하나를 선택 가능\n",
    "TP: 실제-true 예측-true (정답)    FP: 실제-false 예측-true(오답)\n",
    "FN: 실제-true 예측-false(오답)    TN: 실제-false 예측-false(정답)\n",
    "\n",
    "- 정확도 : 예측한 샘플의 비율\n",
    "예측 결과와 실제 값이 동일한 건수/전체 데이터 수 = (TN + TP)/(TN +FP + FN + TP) \n",
    "- 정밀도 : 양성으로 예측한 샘플 중에서 진짜 양성 클래스의 비율(에측에 포함된 잡음)\n",
    "예측을 Positive로 한 대상 중에 예측과 실제 값이 Positive로 일치한 데이터의 비율\n",
    "- 재현율 : 진짜 양성 샘플 중에서 양성으로 예측한 비율\n",
    "재현율은 실제 값이 Positive인 대상 중에 예측과 실제 값이 Positive로 일치한 데이터의 비율 (민감도, TPR)"
   ]
  },
  {
   "cell_type": "code",
   "execution_count": 30,
   "metadata": {},
   "outputs": [
    {
     "data": {
      "text/plain": [
       "array([0.9555, 0.95  , 0.9585, 0.9555, 0.956 ])"
      ]
     },
     "execution_count": 30,
     "metadata": {},
     "output_type": "execute_result"
    }
   ],
   "source": [
    "from sklearn.model_selection import cross_val_score\n",
    "from sklearn.linear_model import LogisticRegression\n",
    "from sklearn.datasets import make_classification\n",
    "\n",
    "# 특성 행렬과 타깃 벡터 생성\n",
    "X, y = make_classification(n_samples = 10000, n_features = 3,n_informative = 3,\n",
    "                           n_redundant = 0,n_classes = 2,random_state = 1)\n",
    "\n",
    "# 로지스틱 회귀 모델 생성\n",
    "logit = LogisticRegression()\n",
    "\n",
    "# 정확도를 사용하여 교차검증을 수행\n",
    "cross_val_score(logit, X, y, scoring=\"accuracy\")"
   ]
  },
  {
   "cell_type": "code",
   "execution_count": 31,
   "metadata": {},
   "outputs": [
    {
     "data": {
      "text/plain": [
       "array([0.95963673, 0.94820717, 0.9635996 , 0.96149949, 0.96060606])"
      ]
     },
     "execution_count": 31,
     "metadata": {},
     "output_type": "execute_result"
    }
   ],
   "source": [
    "# 정밀도를 사용한 교차검증\n",
    "cross_val_score(logit, X, y, scoring=\"precision\")"
   ]
  },
  {
   "cell_type": "code",
   "execution_count": 32,
   "metadata": {},
   "outputs": [
    {
     "data": {
      "text/plain": [
       "array([0.951, 0.952, 0.953, 0.949, 0.951])"
      ]
     },
     "execution_count": 32,
     "metadata": {},
     "output_type": "execute_result"
    }
   ],
   "source": [
    "# 재현율을 사용한 교차검증\n",
    "cross_val_score(logit, X, y, scoring=\"recall\")"
   ]
  },
  {
   "cell_type": "code",
   "execution_count": 33,
   "metadata": {},
   "outputs": [
    {
     "data": {
      "text/plain": [
       "array([0.95529884, 0.9500998 , 0.95827049, 0.95520886, 0.95577889])"
      ]
     },
     "execution_count": 33,
     "metadata": {},
     "output_type": "execute_result"
    }
   ],
   "source": [
    "# f1 점수를 사용한 교차검증\n",
    "cross_val_score(logit, X, y, scoring=\"f1\")"
   ]
  },
  {
   "cell_type": "code",
   "execution_count": 35,
   "metadata": {},
   "outputs": [
    {
     "data": {
      "text/plain": [
       "LogisticRegression(C=1.0, class_weight=None, dual=False, fit_intercept=True,\n",
       "                   intercept_scaling=1, l1_ratio=None, max_iter=100,\n",
       "                   multi_class='auto', n_jobs=None, penalty='l2',\n",
       "                   random_state=None, solver='lbfgs', tol=0.0001, verbose=0,\n",
       "                   warm_start=False)"
      ]
     },
     "execution_count": 35,
     "metadata": {},
     "output_type": "execute_result"
    }
   ],
   "source": [
    "from sklearn.model_selection import cross_validate\n",
    "\n",
    "# 정확도와 정밀도를 사용한 교차검증\n",
    "cross_validate(logit, X, y, scoring=[\"accuracy\", \"precision\"])\n",
    "\n",
    "\n",
    "##########ROC curv 와 AUC#########\n",
    "\n",
    "from sklearn.metrics import roc_curve, roc_auc_score\n",
    "from sklearn.datasets import make_classification\n",
    "\n",
    "# 특성 행렬과 타깃 벡터 생성\n",
    "features, target = make_classification(n_samples=10000,\n",
    "                                       n_features=10,\n",
    "                                       n_classes=2,\n",
    "                                       n_informative=3,\n",
    "                                       random_state=3)\n",
    "\n",
    "# 훈련 세트와 테스트 세트 분류\n",
    "features_train, features_test, target_train, target_test = train_test_split(\n",
    "    features, target, test_size=0.1, random_state=1)\n",
    "\n",
    "# 분류기 생성\n",
    "logit = LogisticRegression()\n",
    "\n",
    "# 모델 훈련\n",
    "logit.fit(features_train, target_train)\n"
   ]
  },
  {
   "cell_type": "code",
   "execution_count": 38,
   "metadata": {},
   "outputs": [],
   "source": [
    "# 예측 확률 계산\n",
    "target_probabilities = logit.predict_proba(features_test)[:,1]\n",
    "\n",
    "# 진짜 양성 비율과 거짓 양성 비율 계산\n",
    "false_positive_rate, true_positive_rate, threshold = roc_curve(target_test, target_probabilities)"
   ]
  },
  {
   "cell_type": "code",
   "execution_count": 40,
   "metadata": {},
   "outputs": [
    {
     "data": {
      "image/png": "[encoded data removed]",
      "text/plain": [
       "<Figure size 432x288 with 1 Axes>"
      ]
     },
     "metadata": {
      "needs_background": "light"
     },
     "output_type": "display_data"
    }
   ],
   "source": [
    "# ROC 곡선 그림\n",
    "\n",
    "import matplotlib.pyplot as plt\n",
    "\n",
    "plt.title(\"Receiver Operating Characteristic\")\n",
    "plt.plot(false_positive_rate, true_positive_rate)\n",
    "plt.plot([0, 1], ls=\"--\")\n",
    "plt.plot([0, 0], [1, 0] , c=\".7\"), plt.plot([1, 1] , c=\".7\")\n",
    "plt.ylabel(\"True Positive Rate\")\n",
    "plt.xlabel(\"False Positive Rate\")\n",
    "plt.show()"
   ]
  },
  {
   "cell_type": "markdown",
   "metadata": {},
   "source": [
    "### 다중클래스 분류기 예측 평가\n",
    "\n",
    "- _macro는 클래스별 평가 점수를 평균하는 방법을 나타냄 \n",
    "- macro : 각 클래스를 동등한 가중치로 클래스별 측정 점수를 평균 \n",
    "- weighted : 샘플 개수에 비례하여 각 클래스별 측정 점수를 평균 \n",
    "- micro : 클래스별 TP, TN, FP, FN을 모두 더하여 계산"
   ]
  },
  {
   "cell_type": "code",
   "execution_count": 1,
   "metadata": {},
   "outputs": [
    {
     "data": {
      "text/plain": [
       "array([0.841 , 0.829 , 0.8265, 0.8155, 0.82  ])"
      ]
     },
     "execution_count": 1,
     "metadata": {},
     "output_type": "execute_result"
    }
   ],
   "source": [
    "from sklearn.model_selection import cross_val_score\n",
    "from sklearn.linear_model import LogisticRegression\n",
    "from sklearn.datasets import make_classification\n",
    "\n",
    "# 특성 행렬과 타깃 벡터를 만듭니다.\n",
    "features, target = make_classification(n_samples = 10000,n_features = 3,\n",
    "                                       n_informative = 3,n_redundant = 0,\n",
    "                                       n_classes = 3,random_state = 1)\n",
    "\n",
    "# 로지스틱 회귀 모델 객체 생성\n",
    "logit = LogisticRegression() \n",
    "\n",
    "# 정확도를 사용, 교차검증 수행\n",
    "cross_val_score(logit, features, target, scoring='accuracy')"
   ]
  },
  {
   "cell_type": "code",
   "execution_count": 4,
   "metadata": {},
   "outputs": [
    {
     "name": "stderr",
     "output_type": "stream",
     "text": [
      "C:\\Anaconda3\\lib\\site-packages\\sklearn\\linear_model\\_logistic.py:940: ConvergenceWarning: lbfgs failed to converge (status=1):\n",
      "STOP: TOTAL NO. of ITERATIONS REACHED LIMIT.\n",
      "\n",
      "Increase the number of iterations (max_iter) or scale the data as shown in:\n",
      "    https://scikit-learn.org/stable/modules/preprocessing.html\n",
      "Please also refer to the documentation for alternative solver options:\n",
      "    https://scikit-learn.org/stable/modules/linear_model.html#logistic-regression\n",
      "  extra_warning_msg=_LOGISTIC_SOLVER_CONVERGENCE_MSG)\n"
     ]
    },
    {
     "data": {
      "image/png": "[encoded data removed]",
      "text/plain": [
       "<Figure size 432x288 with 1 Axes>"
      ]
     },
     "metadata": {
      "needs_background": "light"
     },
     "output_type": "display_data"
    }
   ],
   "source": [
    "#분류기 성능 시각화\n",
    "\n",
    "import matplotlib.pyplot as plt\n",
    "import seaborn as sns\n",
    "from sklearn import datasets\n",
    "from sklearn.linear_model import LogisticRegression\n",
    "from sklearn.model_selection import train_test_split\n",
    "from sklearn.metrics import confusion_matrix\n",
    "import pandas as pd\n",
    "\n",
    "iris = datasets.load_iris() # 데이터 로드\n",
    "features = iris.data # 특성 행렬\n",
    "target = iris.target # 타깃 벡터\n",
    "class_names = iris.target_names # 클래스 이름 리스트\n",
    "\n",
    "# 훈련 세트와 테스트 세트 생성\n",
    "features_train, features_test, target_train, target_test = train_test_split(features, target, random_state=1)\n",
    "# 로지스틱 회귀 모델 객체 생성\n",
    "classifier = LogisticRegression()\n",
    "\n",
    "# 모델을 훈련 및 예측 결과 계산\n",
    "target_predicted = classifier.fit(features_train, target_train).predict(features_test)\n",
    "\n",
    "# 오차 행렬 생성\n",
    "matrix = confusion_matrix(target_test, target_predicted)\n",
    "# 판다스 데이터프레임 생성\n",
    "dataframe = pd.DataFrame(matrix, index=class_names, columns=class_names)\n",
    "\n",
    "sns.heatmap(dataframe, annot=True, cbar=None, cmap=\"Blues\") # 히트맵 생성\n",
    "plt.title(\"Confusion Matrix\"), plt.tight_layout()\n",
    "plt.ylabel(\"True Class\"), plt.xlabel(\"Predicted Class\")\n",
    "plt.show()"
   ]
  },
  {
   "cell_type": "markdown",
   "metadata": {},
   "source": [
    "### 회귀 모델 평가\n",
    "\n",
    "- MSE는 예측값과 진짜 값 사이의 모든 거리를 제곱하여 더한 값\n",
    "- MSE의 값이 클수록 전체 제곱 오차가 더 커지므로 나쁜 모델임\n",
    "- 사이킷런의 scoring 매개변수값은 높은 값이 낮은 값보다 좋은 것 이어야함\n",
    "- 타깃 벡터의 평균값이 1.0에 가까울수록 더 좋은 모델임\n",
    "- 회귀 평가 지표 R^2는 모델이 설명하는 타깃 벡터의 분산을 측정"
   ]
  },
  {
   "cell_type": "code",
   "execution_count": 5,
   "metadata": {},
   "outputs": [
    {
     "data": {
      "text/plain": [
       "array([0.8622399 , 0.85838075, 0.74723548, 0.91354743, 0.84469331])"
      ]
     },
     "execution_count": 5,
     "metadata": {},
     "output_type": "execute_result"
    }
   ],
   "source": [
    "from sklearn.datasets import make_regression\n",
    "from sklearn.model_selection import cross_val_score\n",
    "from sklearn.linear_model import LinearRegression\n",
    "\n",
    "# 특성 행렬과 타깃 벡터 생성\n",
    "features, target = make_regression(n_samples = 100,n_features = 3,\n",
    "                                   n_informative = 3,n_targets = 1,noise = 50,\n",
    "                                   coef = False,random_state = 1)\n",
    "\n",
    "#객체 생성\n",
    "ols = LinearRegression()\n",
    "\n",
    "# 음의 MSE를 사용한 교차검증 수행\n",
    "cross_val_score(ols, features, target, scoring='neg_mean_squared_error')\n",
    "\n",
    "# R^2를 사용한 교차검증 수행\n",
    "cross_val_score(ols, features, target, scoring='r2')"
   ]
  },
  {
   "cell_type": "markdown",
   "metadata": {},
   "source": [
    "### 군집 모델 평가\n",
    "\n",
    "- 군집을 평가하는 방법은 클러스터의 품질을 측정하는 실루엣 계수임\n",
    "- 클러스터 내 샘플간의 거리는 가깝고 클러스타 간 거리는 먼 것이 좋은 클러스터"
   ]
  },
  {
   "cell_type": "code",
   "execution_count": 22,
   "metadata": {},
   "outputs": [
    {
     "data": {
      "text/plain": [
       "0.8916265564072142"
      ]
     },
     "execution_count": 22,
     "metadata": {},
     "output_type": "execute_result"
    }
   ],
   "source": [
    "import numpy as np\n",
    "from sklearn.metrics import silhouette_score\n",
    "from sklearn import datasets\n",
    "from sklearn.cluster import KMeans\n",
    "from sklearn.datasets import make_blobs\n",
    "\n",
    "# 특성 행렬을 생성\n",
    "features, _ = make_blobs(n_samples = 1000,n_features = 10,centers = 2,\n",
    "                         cluster_std = 0.5,shuffle = True,random_state = 1)\n",
    "\n",
    "# k-평균을 사용하여 데이터를 클러스터링하고 클래스를 예측\n",
    "model = KMeans(n_clusters=2, random_state=1).fit(features)\n",
    "# 예측된 클래스\n",
    "target_predicted = model.labels_ \n",
    "silhouette_score(features, target_predicted) "
   ]
  },
  {
   "cell_type": "markdown",
   "metadata": {},
   "source": [
    "### 사용자 정의 평가 지표 만들기"
   ]
  },
  {
   "cell_type": "code",
   "execution_count": 10,
   "metadata": {},
   "outputs": [
    {
     "data": {
      "text/plain": [
       "0.9997906102882058"
      ]
     },
     "execution_count": 10,
     "metadata": {},
     "output_type": "execute_result"
    }
   ],
   "source": [
    "from sklearn.metrics import make_scorer, r2_score\n",
    "from sklearn.model_selection import train_test_split\n",
    "from sklearn.linear_model import Ridge\n",
    "from sklearn.datasets import make_regression\n",
    "\n",
    "# 특성 행렬과 타깃 벡터 생성\n",
    "features, target = make_regression(n_samples = 100,n_features = 3,random_state = 1)\n",
    "\n",
    "# 훈련 세트와 테스트 세트 생성\n",
    "features_train, features_test, target_train, target_test = train_test_split(features, target, test_size=0.10, random_state=1)\n",
    "\n",
    "\n",
    "def custom_metric(target_test, target_predicted): # 사용자 정의 지표 함수를 정의\n",
    "    r2 = r2_score(target_test, target_predicted) # R^2 점수를 계산\n",
    "    return r2 # R^2 점수를 반환\n",
    "\n",
    "# 높은 점수가 좋은 것을 나타내는 스코어 함수 생성\n",
    "score = make_scorer(custom_metric, greater_is_better=True)\n",
    "classifier = Ridge() # 릿지(ridge) 회귀 모델 객체 생성\n",
    "\n",
    "model = classifier.fit(features_train, target_train) # 릿지 회귀 모델 훈련\n",
    "score(model, features_test, target_test) # 사용자 정의 스코어 함수를 적용\n",
    "target_predicted = model.predict(features_test) # 예측\n",
    "r2_score(target_test, target_predicted) # R^2 점수 계산"
   ]
  },
  {
   "cell_type": "markdown",
   "metadata": {},
   "source": [
    "### 훈련 세트 크기에 따른 영향 시각화"
   ]
  },
  {
   "cell_type": "code",
   "execution_count": 12,
   "metadata": {},
   "outputs": [
    {
     "data": {
      "image/png": "[encoded data removed]",
      "text/plain": [
       "<Figure size 432x288 with 1 Axes>"
      ]
     },
     "metadata": {
      "needs_background": "light"
     },
     "output_type": "display_data"
    }
   ],
   "source": [
    "import numpy as np\n",
    "import matplotlib.pyplot as plt\n",
    "from sklearn.ensemble import RandomForestClassifier\n",
    "from sklearn.datasets import load_digits\n",
    "from sklearn.model_selection import learning_curve\n",
    "\n",
    "digits = load_digits() # 데이터 로드\n",
    "features, target = digits.data, digits.target # 특성 행렬과 타깃 벡터 분리\n",
    "\n",
    "# 다양한 훈련 세트 크기에서 교차검증 훈련 점수와 테스트 점수 계산\n",
    "train_sizes, train_scores, test_scores = learning_curve(\n",
    "    RandomForestClassifier(), # 분류기\n",
    "    features, # 특성 행렬\n",
    "    target, # 타깃 벡터\n",
    "    cv=10, # 폴드 수\n",
    "    scoring='accuracy', # 성능 지표\n",
    "    n_jobs=-1, # 모든 코어 사용\n",
    "    train_sizes=np.linspace( 0.01, 1.0, 50)) # 50개의 훈련 세트 크기\n",
    "\n",
    "\n",
    "# 훈련 세트 점수의 평균과 표준 편차를 계산.\n",
    "train_mean = np.mean(train_scores, axis=1)\n",
    "train_std = np.std(train_scores, axis=1)\n",
    "\n",
    "# 테스트 세트 점수의 평균과 표준 편차를 계산\n",
    "test_mean = np.mean(test_scores, axis=1)\n",
    "test_std = np.std(test_scores, axis=1)\n",
    "\n",
    "# 그래프 그림\n",
    "plt.plot(train_sizes, train_mean, '--', color=\"#111111\", label=\"Training score\")\n",
    "plt.plot(train_sizes, test_mean, color=\"#111111\", label=\"Cross-validation score\")\n",
    "\n",
    "# 표준 편차 영역 그림\n",
    "plt.fill_between(train_sizes, train_mean - train_std, train_mean + train_std, color=\"#DDDDDD\")\n",
    "plt.fill_between(train_sizes, test_mean - test_std, test_mean + test_std, color=\"#DDDDDD\")\n",
    "\n",
    "# 그래프 출력\n",
    "plt.title(\"Learning Curve\")\n",
    "plt.xlabel(\"Training Set Size\"), plt.ylabel(\"Accuracy Score\"),\n",
    "plt.legend(loc=\"best\")\n",
    "plt.tight_layout()\n",
    "plt.show()\n",
    "#훈련 세트 샘플의 1%에서 100%까지 50개 크기에서 랜덤 포레스트 분류기의 정확도를 그래프로 출력합니다.\n",
    "#모델의 교차검증 정확도가 증가하면 추가적인 샘플이 도움이 된다는 것을 의미합니다."
   ]
  },
  {
   "cell_type": "markdown",
   "metadata": {},
   "source": [
    "### 평가 지표 리포트 만들기"
   ]
  },
  {
   "cell_type": "code",
   "execution_count": 19,
   "metadata": {},
   "outputs": [
    {
     "name": "stdout",
     "output_type": "stream",
     "text": [
      "              precision    recall  f1-score   support\n",
      "\n",
      "      setosa       1.00      1.00      1.00        13\n",
      "  versicolor       1.00      0.94      0.97        16\n",
      "   virginica       0.90      1.00      0.95         9\n",
      "\n",
      "    accuracy                           0.97        38\n",
      "   macro avg       0.97      0.98      0.97        38\n",
      "weighted avg       0.98      0.97      0.97        38\n",
      "\n"
     ]
    },
    {
     "name": "stderr",
     "output_type": "stream",
     "text": [
      "C:\\Anaconda3\\lib\\site-packages\\sklearn\\linear_model\\_logistic.py:940: ConvergenceWarning: lbfgs failed to converge (status=1):\n",
      "STOP: TOTAL NO. of ITERATIONS REACHED LIMIT.\n",
      "\n",
      "Increase the number of iterations (max_iter) or scale the data as shown in:\n",
      "    https://scikit-learn.org/stable/modules/preprocessing.html\n",
      "Please also refer to the documentation for alternative solver options:\n",
      "    https://scikit-learn.org/stable/modules/linear_model.html#logistic-regression\n",
      "  extra_warning_msg=_LOGISTIC_SOLVER_CONVERGENCE_MSG)\n"
     ]
    }
   ],
   "source": [
    "from sklearn import datasets\n",
    "from sklearn.linear_model import LogisticRegression\n",
    "from sklearn.model_selection import train_test_split\n",
    "from sklearn.metrics import classification_report\n",
    "\n",
    "iris = datasets.load_iris() # 데이터 로드\n",
    "features = iris.data # 특성 행렬\n",
    "target = iris.target # 타깃 벡터\n",
    "\n",
    "class_names = iris.target_names # 타깃 클래스 이름의 리스트\n",
    "# 훈련 세트와 테스트 세트 생성\n",
    "features_train, features_test, target_train, target_test = train_test_split( features, target, random_state=1)\n",
    "classifier = LogisticRegression() # 로지스틱 회귀 모델 객체 생성\n",
    "model = classifier.fit(features_train, target_train) # 모델 훈련\n",
    "target_predicted = model.predict(features_test) # 예측\n",
    "\n",
    "print(classification_report(target_test,target_predicted,target_names=class_names)) # 분류 리포트 새성"
   ]
  },
  {
   "cell_type": "code",
   "execution_count": 20,
   "metadata": {},
   "outputs": [
    {
     "name": "stdout",
     "output_type": "stream",
     "text": [
      "              precision    recall  f1-score   support\n",
      "\n",
      "           0       1.00      1.00      1.00        13\n",
      "           1       1.00      0.94      0.97        16\n",
      "           2       0.90      1.00      0.95         9\n",
      "           3       0.00      0.00      0.00         0\n",
      "\n",
      "   micro avg       0.97      0.97      0.97        38\n",
      "   macro avg       0.72      0.73      0.73        38\n",
      "weighted avg       0.98      0.97      0.97        38\n",
      "\n"
     ]
    },
    {
     "name": "stderr",
     "output_type": "stream",
     "text": [
      "C:\\Anaconda3\\lib\\site-packages\\sklearn\\metrics\\_classification.py:1272: UndefinedMetricWarning: Precision and F-score are ill-defined and being set to 0.0 in labels with no predicted samples. Use `zero_division` parameter to control this behavior.\n",
      "  _warn_prf(average, modifier, msg_start, len(result))\n",
      "C:\\Anaconda3\\lib\\site-packages\\sklearn\\metrics\\_classification.py:1272: UndefinedMetricWarning: Recall and F-score are ill-defined and being set to 0.0 in labels with no true samples. Use `zero_division` parameter to control this behavior.\n",
      "  _warn_prf(average, modifier, msg_start, len(result))\n"
     ]
    }
   ],
   "source": [
    "# 분류 리포트 생성\n",
    "print(classification_report(target_test, target_predicted, labels=[0,1,2,3])) "
   ]
  },
  {
   "cell_type": "markdown",
   "metadata": {},
   "source": [
    "### 하이퍼파라미터 값의 영향 시각화\n",
    "\n",
    "- 일부 하이퍼 라이터 값을 변경할  때 모델의 성는 변화는 검증 곡선을 그려 확인"
   ]
  },
  {
   "cell_type": "code",
   "execution_count": 21,
   "metadata": {},
   "outputs": [
    {
     "data": {
      "image/png": "[encoded data removed]",
      "text/plain": [
       "<Figure size 432x288 with 1 Axes>"
      ]
     },
     "metadata": {
      "needs_background": "light"
     },
     "output_type": "display_data"
    }
   ],
   "source": [
    "#트리 개수가 증가할 때 랜덤 포레스트 분류기의 훈련 세트 정확도와 교차검증 정확도의 변화를 시각화\n",
    "\n",
    "import matplotlib.pyplot as plt\n",
    "import numpy as np\n",
    "from sklearn.datasets import load_digits\n",
    "from sklearn.ensemble import RandomForestClassifier\n",
    "from sklearn.model_selection import validation_curve\n",
    "\n",
    "digits = load_digits() # 데이터 로드\n",
    "features, target = digits.data, digits.target # 특성 행렬과 타깃 벡터\n",
    "param_range = np.arange(1, 250, 2) # 파라미터 값의 범위\n",
    "# 파라미터 값의 범위를 사용하여 훈련 세트와 테스트 세트의 정확도를 계산합니다.\n",
    "train_scores, test_scores = validation_curve( RandomForestClassifier(), features,\n",
    "                                             target, param_name=\"n_estimators\",\n",
    "                                             param_range=param_range, cv=3, \n",
    "                                             scoring=\"accuracy\", n_jobs=-1)\n",
    "\n",
    "\n",
    "# 훈련 세트 점수의 평균과 표준 편차를 계산\n",
    "train_mean = np.mean(train_scores, axis=1)\n",
    "train_std = np.std(train_scores, axis=1)\n",
    "\n",
    "# 테스트 세트 점수의 평균과 표준 편차를 계산\n",
    "test_mean = np.mean(test_scores, axis=1) \n",
    "test_std = np.std(test_scores, axis=1)\n",
    "\n",
    "# 훈련 세트와 테스트 세트의 평균 정확도 점수를 그래프로 그림\n",
    "plt.plot(param_range, train_mean, label=\"Training score\", color=\"black\")\n",
    "plt.plot(param_range, test_mean, label=\"Cross-validation score\", color=\"dimgrey\")\n",
    "# 훈련 세트와 테스트 세트의 정확도에 대한 표준 편차를 그래프로 그림\n",
    "plt.fill_between(param_range, train_mean - train_std, train_mean + train_std, color=\"gray\")\n",
    "plt.fill_between(param_range, test_mean - test_std, test_mean + test_std, color=\"gainsboro\")\n",
    "plt.title(\"Validation Curve With Random Forest\")\n",
    "plt.xlabel(\"Number Of Trees\")\n",
    "plt.ylabel(\"Accuracy Score\")\n",
    "plt.tight_layout()\n",
    "plt.legend(loc=\"best\")\n",
    "plt.show() "
   ]
  }
 ],
 "metadata": {
  "kernelspec": {
   "display_name": "Python 3",
   "language": "python",
   "name": "python3"
  },
  "language_info": {
   "codemirror_mode": {
    "name": "ipython",
    "version": 3
   },
   "file_extension": ".py",
   "mimetype": "text/x-python",
   "name": "python",
   "nbconvert_exporter": "python",
   "pygments_lexer": "ipython3",
   "version": "3.7.6"
  }
 },
 "nbformat": 4,
 "nbformat_minor": 4
}

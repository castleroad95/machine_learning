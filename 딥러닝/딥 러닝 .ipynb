{
 "cells": [
  {
   "cell_type": "markdown",
   "metadata": {},
   "source": [
    "## 머신러닝\n",
    "\n",
    ": 데이터 안에서 규칙을 발견하고 그 규칙을 새로운 데이터에 적용해서 새로운 결과를 도출\n",
    "- 기존 데이터를 이용해 미래의 미지의 일을 예측\n",
    "- 학습: 데이터가 입력되고 패턴이 분석되는 과정\n",
    "\n",
    "\n",
    "## 딥러닝(심층학습, 강화학습)\n",
    "\n",
    ": 여러 층을 가진 인공신경망을 이용하여 머신러능을 수행하는 것\n",
    "- 인공신경망을 넓고 다층으로 쌓으면 딥러닝\n",
    "- 신경망을 사용해 수많은 데이터 속에서 어떤 패턴을 파악하고 이것을 통해 인간이 사물을 구분하듯이 컴퓨터가 데이터를 나누는 것(데이터를 넣으면 알아서 학습 처리)\n",
    "\n",
    " \n",
    "**** 딥러닝 단계에서 군집화된 데이터를 분류 -> 머신러닝 단계를 거쳐 학습 -> 인공지능 단계에서 판단이나 결과를 내는 과정 ****\n",
    "\n",
    "### 딥러닝 라이브러리 Keras\n",
    "\n",
    "- 머신러닝 라이브러리 Theano와 TensorFlow를 래핑한 라이브러리\n",
    "- Keras로 머신러닝을 수행할 때 numpy 배열로 데이터 전달 해야함\n",
    "- Sequential()삼수를 선언하고 model.add()함수를 사용해 한 층 한 층 쉽게 쌓아 올릴수 있다.\n",
    "- Dense(activation=,loss=,optimizer=) 각 층이 어떤 특성을 가질지 옵션을 선택\n",
    "    * activation: 다음 층으로 어떻게 값을 넘길지 결정(relu,sigmoid함수)\n",
    "    * loss: 한번 신경망이 실행될 때마다 오차 값을 추적하는 함수\n",
    "    * optimizer: 오차를 어떻게 줄여 나갈지 정하는 함수\n",
    "- model.eveluate()- 딥러닝의 모델이 어느정도 정확하게 예측하는지 점검\n",
    "\n",
    "\n",
    "### TensorFlow\n",
    "\n",
    "- 구글이 공개한 대규모 숫자 계산을 해주는 머신러닝 및 딥러닝 전문 라이브러리\n",
    "- Tensor는 다차원 행렬 계산을 의미\n",
    "- C++로 만들어진 라이브러리"
   ]
  },
  {
   "cell_type": "code",
   "execution_count": 11,
   "metadata": {},
   "outputs": [
    {
     "name": "stderr",
     "output_type": "stream",
     "text": [
      "C:\\Anaconda3\\lib\\site-packages\\ipykernel_launcher.py:43: UserWarning: The `nb_epoch` argument in `fit` has been renamed `epochs`.\n"
     ]
    },
    {
     "name": "stdout",
     "output_type": "stream",
     "text": [
      "Train on 13500 samples, validate on 1500 samples\n",
      "Epoch 1/20\n",
      "13500/13500 [==============================] - 2s 113us/step - loss: nan - accuracy: 0.3276 - val_loss: nan - val_accuracy: 0.3273\n",
      "Epoch 2/20\n",
      " 1400/13500 [==>...........................] - ETA: 1s - loss: nan - accuracy: 0.330"
     ]
    },
    {
     "name": "stderr",
     "output_type": "stream",
     "text": [
      "C:\\Anaconda3\\lib\\site-packages\\keras\\callbacks\\callbacks.py:820: RuntimeWarning: invalid value encountered in less\n",
      "  if self.monitor_op(current - self.min_delta, self.best):\n"
     ]
    },
    {
     "name": "stdout",
     "output_type": "stream",
     "text": [
      "13500/13500 [==============================] - 1s 104us/step - loss: nan - accuracy: 0.3248 - val_loss: nan - val_accuracy: 0.3273\n",
      "4999/4999 [==============================] - 0s 94us/step\n",
      "loss= nan\n",
      "accuracy= 0.31886377930641174\n"
     ]
    }
   ],
   "source": [
    "#############keras를 이용한  BMI  신경망 학습 ###################\n",
    "\n",
    "from keras.models import Sequential\n",
    "from keras.layers.core import Dense, Dropout, Activation\n",
    "from keras.callbacks import EarlyStopping\n",
    "import pandas as pd, numpy as np\n",
    " \n",
    "csv = pd.read_csv(\"C:/Users/castl/Desktop/2020_job_academy/machine_learning/수업 내용 정리/딥러닝/dataset/bmi.csv\")\n",
    "# 몸무게와 키 데이터 정규화\n",
    "csv[\"weight\"] /= 100\n",
    "csv[\"height\"] /= 200\n",
    "X = csv[[\"weight\", \"height\"]].values\n",
    " \n",
    "# 레이블\n",
    "bclass = {\"thin\":[1,0,0], \"normal\":[0,1,0], \"fat\":[0,0,1]}\n",
    "y = np.empty((20000,3))\n",
    "for i, v in enumerate(csv[\"label\"]):\n",
    "    y[i] = bclass[v]\n",
    "\t\n",
    "# 훈련  데이터와 테스트  데이터로 분리  \n",
    "X_train, y_train = X[1:15001], y[1:15001]\n",
    "X_test,  y_test  = X[15001:20001], y[15001:20001] \n",
    "\n",
    "# 모델 구조 정의   \n",
    "model = Sequential()\n",
    "model.add(Dense(512, input_shape=(2,)))\n",
    "model.add(Activation('relu')) \n",
    "\n",
    "model.add(Dropout(0.1))\n",
    "model.add(Dense(512))\n",
    "model.add(Activation('relu'))\n",
    "model.add(Dropout(0.1))\n",
    "model.add(Dense(3))\n",
    "model.add(Activation('softmax'))\n",
    "\n",
    "# 모델 구축 \n",
    "model.compile(  loss='categorical_crossentropy',    optimizer=\"rmsprop\",     metrics=['accuracy'])\n",
    "# 데이터 훈련\n",
    "hist = model.fit(\n",
    "    X_train, y_train,\n",
    "    batch_size=100,\n",
    "    nb_epoch=20,\n",
    "    validation_split=0.1,\n",
    "    callbacks=[EarlyStopping(monitor='val_loss', patience=2)],\n",
    "    verbose=1)\n",
    "\t\n",
    "# 테스트 데이터로 평가  \n",
    "score = model.evaluate(X_test, y_test)\n",
    "print('loss=', score[0])\n",
    "print('accuracy=', score[1])\n"
   ]
  },
  {
   "cell_type": "markdown",
   "metadata": {},
   "source": [
    "## 딥러닝 동작원리\n",
    "\n",
    "### 선형 회기(linear regression)\n",
    "\n",
    ": 선형 회기는 정확한 직선을 그려내는 과정으로 직선의 기울기 a값과 y절편 b값을 정확히 예측해 내야 하는것(y=ax+b)\n",
    "\n",
    "    - 단순 선형 회귀: 하나의 x값만으로 y값을 설명\n",
    "    - 다중 선형 회귀: 여러개의 x값이 y값을 설명\n",
    "    \n",
    " #### 최소 제곱법(method of least squares)\n",
    " \n",
    " : 회귀 분석에서 사용 되는 표준 방식\n",
    " - 일차 함수의 기울기 a와 y 절편 b를 구할 수 있음\n",
    " - x의 편차(각 값과 평균의 차이)를 제곱해서 합한 값을 분모로 놓고 x,y의 편차를 곱해서 합한 값을 분자로 놓으면 기울기a\n",
    " - y절편인 b를 구하는 공식: b=mean(y)-(mean(x) * a)"
   ]
  },
  {
   "cell_type": "code",
   "execution_count": 12,
   "metadata": {},
   "outputs": [
    {
     "name": "stdout",
     "output_type": "stream",
     "text": [
      "20.0\n",
      "46.0\n",
      "기울기 : 2.3\n",
      "절편 :  79.0\n"
     ]
    }
   ],
   "source": [
    "## 최소제곱법을 이용한 공부시간과 성적의 선형회귀 기울기, 절편 구하기 실습##\n",
    "x=[2,4,6,8]\n",
    "y=[81,93,91,97]\n",
    "\n",
    "mx = np.mean(x)\n",
    "my = np.mean(y)\n",
    "\n",
    "#최소제곱법의 기울기 공식 \n",
    "divisor = sum([(mx-i)**2 for i in x])\n",
    "\n",
    " \n",
    "\n",
    "dividend = sum([(x[i]-mx)*(y[i]-my) for i in range(len(x))])\n",
    "print(divisor)\n",
    "print(dividend)\n",
    "\n",
    "#기울기 \n",
    "a = dividend/divisor\n",
    "#절편\n",
    "b = my - (mx*a)\n",
    "\n",
    "print(\"기울기 :\", a)\n",
    "print(\"절편 : \", b)\n"
   ]
  },
  {
   "cell_type": "markdown",
   "metadata": {},
   "source": [
    "#### 평균 제곱근 오차(root mean square error)\n",
    "\n",
    ": 가설을 세운 뒤 이 값이 주어진 요건을 충족하는지 판단하여 조금씩 변화를 주고, 변화가 긍정적이면 오차가 최소가 될 때까지 과정을 반복\n",
    "\n",
    "- 기울기가 잘못되었을 수록 직선과의 거리의 합(오차의 합) 증가\n",
    "- 기울기가 무한대로 커지면 오차도 무한대로 커짐"
   ]
  },
  {
   "cell_type": "code",
   "execution_count": 13,
   "metadata": {},
   "outputs": [
    {
     "name": "stdout",
     "output_type": "stream",
     "text": [
      "평균 제곱 오차 : 11.0\n"
     ]
    }
   ],
   "source": [
    "#######선형회귀의 평균 제곱 오차  구하기 #############################\n",
    "#최소제곱법으로 기울기와 절편을 구할수 없는 경우 임의의 절편과 기울기에서 예측된 값과 \n",
    "#실제값의 오차를 구해서 오차를 줄이는 방향으로 기울기,절편을 수정하기 위해\n",
    "#오차 계산 \n",
    "##########################################################\n",
    "#임의의 기울기와 절편\n",
    "a_b = [3, 76]\n",
    "data = [[2, 81], [4, 93], [6, 91], [8, 97]]\n",
    "x=[i[0] for i in data]\n",
    "y=[i[1] for i in data]\n",
    "\n",
    "#예측값\n",
    "predict = [ a_b[0]*i+a_b[1]  for i in x]\n",
    "\n",
    "#평균 제곱 오차\n",
    "mse = np.mean([(predict[i] - y[i])**2 for i in range(len(x))])\n",
    "\n",
    "print(\"평균 제곱 오차 :\" , mse)"
   ]
  },
  {
   "cell_type": "markdown",
   "metadata": {},
   "source": [
    "#### 오차수정-경사하강법(gradient decent)\n",
    "\n",
    ":미분 기울기를 이용하여 이차 함수 그래프에서 오차를 비교해서 가장 작은 방향으로 이동시키는 방법\n",
    "\n",
    "- 학습률 : 발산 하지 않도록(학습률이 너무 크면) 학습률의 값을 적절히 바꾸면서 최적의 학습률을 찾는다."
   ]
  },
  {
   "cell_type": "code",
   "execution_count": 15,
   "metadata": {},
   "outputs": [
    {
     "data": {
      "image/png": "[encoded data removed]",
      "text/plain": [
       "<Figure size 576x360 with 1 Axes>"
      ]
     },
     "metadata": {
      "needs_background": "light"
     },
     "output_type": "display_data"
    },
    {
     "name": "stdout",
     "output_type": "stream",
     "text": [
      "epoch=0, 기울기=27.8400, 절편=5.4300\n",
      "epoch=100, 기울기=7.0739, 절편=50.5117\n",
      "epoch=200, 기울기=4.0960, 절편=68.2822\n",
      "epoch=300, 기울기=2.9757, 절편=74.9678\n",
      "epoch=400, 기울기=2.5542, 절편=77.4830\n",
      "epoch=500, 기울기=2.3956, 절편=78.4293\n",
      "epoch=600, 기울기=2.3360, 절편=78.7853\n",
      "epoch=700, 기울기=2.3135, 절편=78.9192\n",
      "epoch=800, 기울기=2.3051, 절편=78.9696\n",
      "epoch=900, 기울기=2.3019, 절편=78.9886\n",
      "epoch=1000, 기울기=2.3007, 절편=78.9957\n",
      "epoch=1100, 기울기=2.3003, 절편=78.9984\n",
      "epoch=1200, 기울기=2.3001, 절편=78.9994\n",
      "epoch=1300, 기울기=2.3000, 절편=78.9998\n",
      "epoch=1400, 기울기=2.3000, 절편=78.9999\n",
      "epoch=1500, 기울기=2.3000, 절편=79.0000\n",
      "epoch=1600, 기울기=2.3000, 절편=79.0000\n",
      "epoch=1700, 기울기=2.3000, 절편=79.0000\n",
      "epoch=1800, 기울기=2.3000, 절편=79.0000\n",
      "epoch=1900, 기울기=2.3000, 절편=79.0000\n",
      "epoch=2000, 기울기=2.3000, 절편=79.0000\n"
     ]
    },
    {
     "data": {
      "image/png": "[encoded data removed]",
      "text/plain": [
       "<Figure size 432x288 with 1 Axes>"
      ]
     },
     "metadata": {
      "needs_background": "light"
     },
     "output_type": "display_data"
    }
   ],
   "source": [
    "#경사하강법 실습\n",
    "\n",
    "import matplotlib.pyplot as plt\n",
    "\n",
    "plt.figure(figsize=(8,5))\n",
    "plt.scatter(x, y)\n",
    "plt.show()\n",
    "\n",
    "X_data = np.array(x)\n",
    "y_data = np.array(y)\n",
    "\n",
    "a=0 #기울기 a를 0으로 초기화\n",
    "b=0 #절편 b를 0으로 초기화\n",
    "\n",
    "lr = 0.03        #학습률 \n",
    "epochs = 2001\n",
    "\n",
    " \n",
    "for i in range(epochs):\n",
    "    y_pred = a * X_data + b  #이차함수의 한 점에서의 순간 기울기\n",
    "    error = y_data - y_pred    #오차\n",
    "    #오차 함수를 a로 미분\n",
    "    a_diff = -(2/len(X_data)) * sum(X_data *(error))\n",
    "    #오차 함수를 b로 미분\n",
    "    b_diff = -(2/len(X_data)) * sum(error)\n",
    "    #학습률을 곱해서 a값 업데이트\n",
    "    a= a-lr*a_diff \n",
    "    #학습률을 곱해서 b값 업데이트\n",
    "    b= b-lr*b_diff   \n",
    " \n",
    "    if i%100==0: \n",
    "         print('epoch=%.f, 기울기=%.04f, 절편=%.04f' % (i, a, b))\n",
    "\n",
    "y_pred = a * X_data + b\n",
    " \n",
    "plt.scatter(x, y)\n",
    "plt.plot([min(X_data), max(X_data)], [min(y_data), max(y_data)])\n",
    "plt.show()\t"
   ]
  },
  {
   "cell_type": "code",
   "execution_count": 16,
   "metadata": {},
   "outputs": [
    {
     "data": {
      "image/png": "[encoded data removed]",
      "text/plain": [
       "<Figure size 432x288 with 1 Axes>"
      ]
     },
     "metadata": {
      "needs_background": "light"
     },
     "output_type": "display_data"
    }
   ],
   "source": [
    "# 경사 하강법으로 다중 선형 회귀 구현 코드\n",
    "\n",
    "import numpy as np\n",
    "import pandas as pd\n",
    "import matplotlib.pyplot as plt\n",
    "from mpl_toolkits import mplot3d\n",
    "\n",
    " \n",
    "data = [[2, 0, 81], [4, 4, 93], [6, 2, 91], [8, 3, 97]]\n",
    "x1 = [i[0] for i in data]\n",
    "x2 = [i[1] for i in data]\n",
    "y = [i[2] for i in data]\n",
    "\n",
    " \n",
    "ax = plt.axes(projection='3d')\n",
    "ax.set_xlabel('study_hours')\n",
    "ax.set_ylabel('private_class')\n",
    "ax.set_zlabel('Score')\n",
    "ax.dist = 11 \n",
    "ax.scatter(x1, x2, y)\n",
    "plt.show()\n"
   ]
  },
  {
   "cell_type": "code",
   "execution_count": 17,
   "metadata": {},
   "outputs": [
    {
     "name": "stdout",
     "output_type": "stream",
     "text": [
      "epoch=0, 기울기1=13.9200, 기울기2=6.3375, 절편=2.7150\n",
      "epoch=100, 기울기1=8.3148, 기울기2=4.6327, 절편=31.0827\n",
      "epoch=200, 기울기1=5.7281, 기울기2=3.7455, 절편=48.8273\n",
      "epoch=300, 기울기1=4.1241, 기울기2=3.1917, 절편=59.8402\n",
      "epoch=400, 기울기1=3.1286, 기울기2=2.8480, 절편=66.6752\n",
      "epoch=500, 기울기1=2.5108, 기울기2=2.6347, 절편=70.9172\n",
      "epoch=600, 기울기1=2.1273, 기울기2=2.5023, 절편=73.5500\n",
      "epoch=700, 기울기1=1.8893, 기울기2=2.4201, 절편=75.1840\n",
      "epoch=800, 기울기1=1.7416, 기울기2=2.3691, 절편=76.1981\n",
      "epoch=900, 기울기1=1.6500, 기울기2=2.3375, 절편=76.8275\n",
      "epoch=1000, 기울기1=1.5931, 기울기2=2.3179, 절편=77.2181\n",
      "epoch=1100, 기울기1=1.5578, 기울기2=2.3057, 절편=77.4605\n",
      "epoch=1200, 기울기1=1.5359, 기울기2=2.2981, 절편=77.6110\n",
      "epoch=1300, 기울기1=1.5223, 기울기2=2.2934, 절편=77.7044\n",
      "epoch=1400, 기울기1=1.5138, 기울기2=2.2905, 절편=77.7623\n",
      "epoch=1500, 기울기1=1.5086, 기울기2=2.2887, 절편=77.7983\n",
      "epoch=1600, 기울기1=1.5053, 기울기2=2.2876, 절편=77.8206\n",
      "epoch=1700, 기울기1=1.5033, 기울기2=2.2869, 절편=77.8345\n",
      "epoch=1800, 기울기1=1.5020, 기울기2=2.2864, 절편=77.8431\n",
      "epoch=1900, 기울기1=1.5013, 기울기2=2.2862, 절편=77.8484\n",
      "epoch=2000, 기울기1=1.5008, 기울기2=2.2860, 절편=77.8517\n"
     ]
    }
   ],
   "source": [
    "#x와 y값을 넘파이 배열로 변환\n",
    "x1_data = np.array(x1)\n",
    "x2_data = np.array(x2)\n",
    "y_data = np.array(y)\n",
    "# 기울기 a와 절편 b의 값을 초기화  \n",
    "a1 = 0\n",
    "a2 = 0\n",
    "b = 0\n",
    "#학습률 \n",
    "lr = 0.03 \n",
    "#수행 횟수\n",
    "epochs = 2001 \n",
    "#경사 하강법 수행\n",
    "for i in range(epochs):  \n",
    "    y_pred = a1 * x1_data + a2 * x2_data + b   \n",
    "    error = y_data - y_pred  #오차 \n",
    "    a1_diff = -(1/len(x1_data)) * sum(x1_data * (error)) # 오차함수를 a1로 미분한 값  \n",
    "    a2_diff = -(1/len(x2_data)) * sum(x2_data * (error)) # 오차함수를 a2로 미분한 값  \n",
    "    b_new = -(1/len(x1_data)) * sum(y_data - y_pred)  # 오차함수를 b로 미분한 값  \n",
    "    a1 = a1 - lr * a1_diff  # 학습률을 곱해 기존의 a1값을 업데이트 \n",
    "    a2 = a2 - lr * a2_diff  # 학습률을 곱해 기존의 a2값을 업데이트 \n",
    "    b = b - lr * b_new  # 학습률을 곱해 기존의 b값을 업데이트 \n",
    "    if i % 100 == 0:    # 100번 반복될 때마다 현재의 a1, a2, b값을 출력합니다.\n",
    "        print(\"epoch=%.f, 기울기1=%.04f, 기울기2=%.04f, 절편=%.04f\" % (i, a1, a2, b))\n"
   ]
  },
  {
   "cell_type": "markdown",
   "metadata": {},
   "source": [
    "### 로지스틱 회귀\n",
    "\n",
    ": 선형 회귀와 마찬가지로 선을 그려나가지만 참(1)과 거짓(0)사이를 구분하는 s자형태로 선을 그음\n",
    "\n",
    "#### 시그모이드 함수\n",
    "\n",
    "- s자 형태로 그래프가 그려지는 함수\n",
    "- a는 그래프의 경사도를 결정, 커지면 경사가 커지고, 작아지면 경사가 작아짐\n",
    "    * a값이 작아질수록 오차는 무한대로 커지지만 a값이 커진다고 오차가 무한대로 커지지 않음\n",
    "- b는 좌우 이동 함, 작으면 좌로 이동, 크면 우로 이동\n",
    "    * b값이 너무 작아지거나 커지면 오차도 무한대로 커짐\n",
    "- y값이 0과 1사이\n",
    "- y의 실제 값이 1일 때 -log h 그래프를 쓰고, 0일 때 -log(1 -h) 그래프 사용\n",
    "- y의 실제 값이 1일 때 b가 없어지고, 0일 때  a부분이 없어짐"
   ]
  },
  {
   "cell_type": "code",
   "execution_count": 18,
   "metadata": {},
   "outputs": [
    {
     "data": {
      "image/png": "[encoded data removed]",
      "text/plain": [
       "<Figure size 432x288 with 1 Axes>"
      ]
     },
     "metadata": {
      "needs_background": "light"
     },
     "output_type": "display_data"
    },
    {
     "name": "stdout",
     "output_type": "stream",
     "text": [
      "epoch=0, 기울기=-0.0500, 절편=-0.0250\n",
      "epoch=0, 기울기=-0.1388, 절편=-0.0472\n",
      "epoch=0, 기울기=-0.2268, 절편=-0.0619\n",
      "epoch=0, 기울기=0.1201, 절편=-0.0185\n",
      "epoch=0, 기울기=0.2374, 절편=-0.0068\n",
      "epoch=0, 기울기=0.2705, 절편=-0.0040\n",
      "epoch=0, 기울기=0.2860, 절편=-0.0029\n",
      "epoch=1000, 기울기=1.4978, 절편=-9.9401\n",
      "epoch=1000, 기울기=1.4940, 절편=-9.9411\n",
      "epoch=1000, 기울기=1.4120, 절편=-9.9547\n",
      "epoch=1000, 기울기=1.4949, 절편=-9.9444\n",
      "epoch=1000, 기울기=1.4982, 절편=-9.9440\n",
      "epoch=1000, 기울기=1.4984, 절편=-9.9440\n",
      "epoch=1000, 기울기=1.4985, 절편=-9.9440\n",
      "epoch=2000, 기울기=1.9065, 절편=-12.9489\n",
      "epoch=2000, 기울기=1.9055, 절편=-12.9491\n",
      "epoch=2000, 기울기=1.8515, 절편=-12.9581\n",
      "epoch=2000, 기울기=1.9057, 절편=-12.9514\n",
      "epoch=2000, 기울기=1.9068, 절편=-12.9513\n",
      "epoch=2000, 기울기=1.9068, 절편=-12.9513\n",
      "epoch=2000, 기울기=1.9068, 절편=-12.9513\n"
     ]
    }
   ],
   "source": [
    "#시그모이드 함수\n",
    "data =[[2, 0], [4, 0],[6, 0],[8, 1],[10, 1],[12, 1], [14, 1]]\n",
    "x=[i[0] for i in data]\n",
    "y=[i[1] for i in data]\n",
    "\n",
    "\n",
    "\n",
    "plt.scatter(x, y)\n",
    "plt.xlim(0, 15)\n",
    "plt.ylim(-.1, 1.1)\n",
    "plt.show()\n",
    "\n",
    "#a, b 초기화 \n",
    "a = 0\n",
    "b = 0\n",
    "\n",
    "#학습률 \n",
    "lr = 0.05 \n",
    "\n",
    "#시그모이드 함수 정의  1/(1+np.e ** (-x)) \n",
    "def sigmoid(x):\n",
    "    return 1 / (1 + np.e ** (-x))\n",
    "\n",
    "#경사 하강법  실행 \n",
    "for i in range(2001):\n",
    "    for x_data, y_data in data:\n",
    "        a_diff = x_data*(sigmoid(a*x_data + b) - y_data) \n",
    "        b_diff = sigmoid(a*x_data + b) - y_data\n",
    "        a = a - lr * a_diff\n",
    "        b = b - lr * b_diff\n",
    "        if i % 1000 == 0:     \n",
    "            print(\"epoch=%.f, 기울기=%.04f, 절편=%.04f\" % (i, a, b))\n"
   ]
  },
  {
   "cell_type": "markdown",
   "metadata": {},
   "source": [
    "#### 퍼셉트론\n",
    "\n",
    ": 입력 값과 활성화 함수를 사용해 출력 값을 다음으로 넘기는 가장 작은 신경망 단위\n",
    "\n",
    "- N개의 이진수가 하나의 뉴런을 통과해서 가중합 0보다 크면 활성화되는 가장 간단한 신경망 구조\n",
    "- 초평면으로 구분되는 두개의 공간을 분리시키는 역할\n",
    "- AND, OR 게이트 생성 가능\n",
    "- 가중합: 입력 값(x)와 가중치(w)의 곱을 모두 더한 값에 바이어스(b)를 더한 값\n",
    "- 활성화 함수: 0과 1을 판단하는 함수\n",
    "    y=wx+b\n",
    "    \n",
    "- XOR문제를 해결하기 위해 두개의 퍼셉트론(다중 퍼셉트론)을 계산할 수 있어야함"
   ]
  },
  {
   "cell_type": "code",
   "execution_count": 19,
   "metadata": {},
   "outputs": [
    {
     "name": "stdout",
     "output_type": "stream",
     "text": [
      "입력값 : (0, 0) 출력값: 0\n",
      "입력값 : (1, 0) 출력값: 1\n",
      "입력값 : (0, 1) 출력값: 1\n",
      "입력값 : (1, 1) 출력값: 0\n"
     ]
    }
   ],
   "source": [
    "#XOR 문제 코드 구현\n",
    "\n",
    "w11 = np.array([-2,-2])\n",
    "w12 = np.array([2,2])\n",
    "w2 = np.array([1, 1])\n",
    "b1 = 3\n",
    "b2 = -1\n",
    "b3 = -1\n",
    "\n",
    "def MLP(x, w, b):\n",
    "    y = np.sum(w*x) + b\n",
    "    if y <= 0:\n",
    "        return 0\n",
    "    else:\n",
    "        return 1\n",
    "\n",
    "def AND(x1, x2):\n",
    "    return MLP(np.array([x1, x2]), w2, b3)\n",
    "\n",
    "def OR(x1, x2):\n",
    "    return MLP(np.array([x1, x2]), w12, b2)\n",
    "\n",
    "def NAND(x1, x2):\n",
    "    return MLP(np.array([x1, x2]), w11, b1)\n",
    "\n",
    "def XOR(x1, x2):\n",
    "    return AND(NAND(x1, x2), OR(x1, x2))\n",
    "\n",
    "               \n",
    "for x in [(0, 0), (1, 0), (0, 1), (1, 1)]:\n",
    "    y = XOR(x[0], x[1])\n",
    "    print(\"입력값 : \"+ str(x) +\" 출력값: \"+ str(y))"
   ]
  },
  {
   "cell_type": "markdown",
   "metadata": {},
   "source": [
    "#### 다중 퍼셉트론\n",
    "\n",
    ": 은닉층으로 퍼셉트론이 각각 자신의 가중치(w)와 바이어스(b)값을 보내고 은닉층에 모인 값이 한 번 더 시그모이드 함수를 이용해 최종 값으로 결과를 보냄\n",
    "- 출력층에서 시그모이드 함수를 통해 y값이 정해짐\n",
    "\n",
    "#### 오차 역전파\n",
    "\n",
    ": 신경망 내부의 가중치를 수정하는 방법으로 임의의 가중치를 선언하고 최소 제곱법을 이용해 오차를 구한 뒤 이 오차가 최소인 지점(기울기=0)으로 계속해서 조금 씩 이동시킴\n",
    "\n",
    "- 다층 퍼셉트론에서의 최적화 과정\n"
   ]
  },
  {
   "cell_type": "code",
   "execution_count": null,
   "metadata": {},
   "outputs": [],
   "source": []
  },
  {
   "cell_type": "code",
   "execution_count": 23,
   "metadata": {},
   "outputs": [
    {
     "name": "stdout",
     "output_type": "stream",
     "text": [
      "Epoch 1/100\n",
      "470/470 [==============================] - 0s 140us/step - loss: 0.4350 - accuracy: 0.5532\n",
      "Epoch 2/100\n",
      "470/470 [==============================] - 0s 66us/step - loss: 0.1489 - accuracy: 0.8511\n",
      "Epoch 3/100\n",
      "470/470 [==============================] - 0s 64us/step - loss: 0.1489 - accuracy: 0.8511\n",
      "Epoch 4/100\n",
      "470/470 [==============================] - 0s 62us/step - loss: 0.1489 - accuracy: 0.8511\n",
      "Epoch 5/100\n",
      "470/470 [==============================] - 0s 64us/step - loss: 0.1489 - accuracy: 0.8511\n",
      "Epoch 6/100\n",
      "470/470 [==============================] - 0s 66us/step - loss: 0.1489 - accuracy: 0.8511\n",
      "Epoch 7/100\n",
      "470/470 [==============================] - 0s 64us/step - loss: 0.1489 - accuracy: 0.8511\n",
      "Epoch 8/100\n",
      "470/470 [==============================] - 0s 64us/step - loss: 0.1489 - accuracy: 0.8511\n",
      "Epoch 9/100\n",
      "470/470 [==============================] - 0s 64us/step - loss: 0.1489 - accuracy: 0.8511\n",
      "Epoch 10/100\n",
      "470/470 [==============================] - 0s 66us/step - loss: 0.1489 - accuracy: 0.8511\n",
      "Epoch 11/100\n",
      "470/470 [==============================] - 0s 68us/step - loss: 0.1489 - accuracy: 0.8511\n",
      "Epoch 12/100\n",
      "470/470 [==============================] - 0s 66us/step - loss: 0.1489 - accuracy: 0.8511\n",
      "Epoch 13/100\n",
      "470/470 [==============================] - 0s 66us/step - loss: 0.1489 - accuracy: 0.8511\n",
      "Epoch 14/100\n",
      "470/470 [==============================] - 0s 74us/step - loss: 0.1489 - accuracy: 0.8511\n",
      "Epoch 15/100\n",
      "470/470 [==============================] - 0s 98us/step - loss: 0.1489 - accuracy: 0.8511\n",
      "Epoch 16/100\n",
      "470/470 [==============================] - 0s 76us/step - loss: 0.1489 - accuracy: 0.8511\n",
      "Epoch 17/100\n",
      "470/470 [==============================] - 0s 66us/step - loss: 0.1489 - accuracy: 0.8511\n",
      "Epoch 18/100\n",
      "470/470 [==============================] - 0s 66us/step - loss: 0.1489 - accuracy: 0.8511\n",
      "Epoch 19/100\n",
      "470/470 [==============================] - 0s 66us/step - loss: 0.1489 - accuracy: 0.8511\n",
      "Epoch 20/100\n",
      "470/470 [==============================] - 0s 64us/step - loss: 0.1489 - accuracy: 0.8511\n",
      "Epoch 21/100\n",
      "470/470 [==============================] - 0s 68us/step - loss: 0.1489 - accuracy: 0.8511\n",
      "Epoch 22/100\n",
      "470/470 [==============================] - 0s 68us/step - loss: 0.1489 - accuracy: 0.8511\n",
      "Epoch 23/100\n",
      "470/470 [==============================] - 0s 79us/step - loss: 0.1489 - accuracy: 0.8511\n",
      "Epoch 24/100\n",
      "470/470 [==============================] - 0s 74us/step - loss: 0.1489 - accuracy: 0.8511\n",
      "Epoch 25/100\n",
      "470/470 [==============================] - 0s 64us/step - loss: 0.1489 - accuracy: 0.8511\n",
      "Epoch 26/100\n",
      "470/470 [==============================] - 0s 72us/step - loss: 0.1489 - accuracy: 0.8511\n",
      "Epoch 27/100\n",
      "470/470 [==============================] - 0s 66us/step - loss: 0.1489 - accuracy: 0.8511\n",
      "Epoch 28/100\n",
      "470/470 [==============================] - 0s 66us/step - loss: 0.1488 - accuracy: 0.8511\n",
      "Epoch 29/100\n",
      "470/470 [==============================] - 0s 68us/step - loss: 0.1488 - accuracy: 0.8511\n",
      "Epoch 30/100\n",
      "470/470 [==============================] - 0s 66us/step - loss: 0.1488 - accuracy: 0.8511\n",
      "Epoch 31/100\n",
      "470/470 [==============================] - 0s 71us/step - loss: 0.1488 - accuracy: 0.8511\n",
      "Epoch 32/100\n",
      "470/470 [==============================] - 0s 70us/step - loss: 0.1487 - accuracy: 0.8511\n",
      "Epoch 33/100\n",
      "470/470 [==============================] - 0s 66us/step - loss: 0.1488 - accuracy: 0.8511\n",
      "Epoch 34/100\n",
      "470/470 [==============================] - 0s 64us/step - loss: 0.1488 - accuracy: 0.8511\n",
      "Epoch 35/100\n",
      "470/470 [==============================] - 0s 64us/step - loss: 0.1487 - accuracy: 0.8511\n",
      "Epoch 36/100\n",
      "470/470 [==============================] - 0s 68us/step - loss: 0.1486 - accuracy: 0.8511\n",
      "Epoch 37/100\n",
      "470/470 [==============================] - 0s 66us/step - loss: 0.1483 - accuracy: 0.8511\n",
      "Epoch 38/100\n",
      "470/470 [==============================] - 0s 64us/step - loss: 0.1485 - accuracy: 0.8511\n",
      "Epoch 39/100\n",
      "470/470 [==============================] - 0s 62us/step - loss: 0.1489 - accuracy: 0.8511\n",
      "Epoch 40/100\n",
      "470/470 [==============================] - 0s 62us/step - loss: 0.1484 - accuracy: 0.8511\n",
      "Epoch 41/100\n",
      "470/470 [==============================] - 0s 66us/step - loss: 0.1482 - accuracy: 0.8511\n",
      "Epoch 42/100\n",
      "470/470 [==============================] - 0s 64us/step - loss: 0.1489 - accuracy: 0.8468\n",
      "Epoch 43/100\n",
      "470/470 [==============================] - 0s 64us/step - loss: 0.1480 - accuracy: 0.8489\n",
      "Epoch 44/100\n",
      "470/470 [==============================] - 0s 76us/step - loss: 0.1485 - accuracy: 0.8489\n",
      "Epoch 45/100\n",
      "470/470 [==============================] - 0s 64us/step - loss: 0.1484 - accuracy: 0.8468\n",
      "Epoch 46/100\n",
      "470/470 [==============================] - 0s 66us/step - loss: 0.1480 - accuracy: 0.8489\n",
      "Epoch 47/100\n",
      "470/470 [==============================] - 0s 83us/step - loss: 0.1477 - accuracy: 0.8511\n",
      "Epoch 48/100\n",
      "470/470 [==============================] - 0s 87us/step - loss: 0.1474 - accuracy: 0.8489\n",
      "Epoch 49/100\n",
      "470/470 [==============================] - 0s 68us/step - loss: 0.1477 - accuracy: 0.8468\n",
      "Epoch 50/100\n",
      "470/470 [==============================] - 0s 64us/step - loss: 0.1473 - accuracy: 0.8489\n",
      "Epoch 51/100\n",
      "470/470 [==============================] - 0s 70us/step - loss: 0.1471 - accuracy: 0.8489\n",
      "Epoch 52/100\n",
      "470/470 [==============================] - 0s 66us/step - loss: 0.1469 - accuracy: 0.8489\n",
      "Epoch 53/100\n",
      "470/470 [==============================] - 0s 70us/step - loss: 0.1473 - accuracy: 0.8489\n",
      "Epoch 54/100\n",
      "470/470 [==============================] - 0s 66us/step - loss: 0.1469 - accuracy: 0.8511\n",
      "Epoch 55/100\n",
      "470/470 [==============================] - 0s 81us/step - loss: 0.1473 - accuracy: 0.8511\n",
      "Epoch 56/100\n",
      "470/470 [==============================] - 0s 83us/step - loss: 0.1468 - accuracy: 0.8511\n",
      "Epoch 57/100\n",
      "470/470 [==============================] - 0s 72us/step - loss: 0.1467 - accuracy: 0.8489\n",
      "Epoch 58/100\n",
      "470/470 [==============================] - 0s 67us/step - loss: 0.1466 - accuracy: 0.8511\n",
      "Epoch 59/100\n",
      "470/470 [==============================] - 0s 64us/step - loss: 0.1465 - accuracy: 0.8489\n",
      "Epoch 60/100\n",
      "470/470 [==============================] - 0s 64us/step - loss: 0.1467 - accuracy: 0.8489\n",
      "Epoch 61/100\n",
      "470/470 [==============================] - 0s 64us/step - loss: 0.1464 - accuracy: 0.8511\n",
      "Epoch 62/100\n",
      "470/470 [==============================] - 0s 64us/step - loss: 0.1464 - accuracy: 0.8489\n",
      "Epoch 63/100\n",
      "470/470 [==============================] - 0s 70us/step - loss: 0.1464 - accuracy: 0.8511\n",
      "Epoch 64/100\n",
      "470/470 [==============================] - 0s 64us/step - loss: 0.1463 - accuracy: 0.8489\n",
      "Epoch 65/100\n",
      "470/470 [==============================] - 0s 62us/step - loss: 0.1468 - accuracy: 0.8489\n",
      "Epoch 66/100\n",
      "470/470 [==============================] - 0s 66us/step - loss: 0.1462 - accuracy: 0.8489\n",
      "Epoch 67/100\n",
      "470/470 [==============================] - 0s 62us/step - loss: 0.1460 - accuracy: 0.8489\n",
      "Epoch 68/100\n",
      "470/470 [==============================] - 0s 68us/step - loss: 0.1460 - accuracy: 0.8511\n",
      "Epoch 69/100\n",
      "470/470 [==============================] - 0s 68us/step - loss: 0.1458 - accuracy: 0.8511\n",
      "Epoch 70/100\n",
      "470/470 [==============================] - 0s 72us/step - loss: 0.1462 - accuracy: 0.8489\n",
      "Epoch 71/100\n",
      "470/470 [==============================] - 0s 70us/step - loss: 0.1458 - accuracy: 0.8511\n",
      "Epoch 72/100\n",
      "470/470 [==============================] - 0s 68us/step - loss: 0.1453 - accuracy: 0.8511\n",
      "Epoch 73/100\n",
      "470/470 [==============================] - 0s 64us/step - loss: 0.1461 - accuracy: 0.8489\n",
      "Epoch 74/100\n",
      "470/470 [==============================] - 0s 59us/step - loss: 0.1450 - accuracy: 0.8553\n",
      "Epoch 75/100\n",
      "470/470 [==============================] - 0s 69us/step - loss: 0.1452 - accuracy: 0.8511\n",
      "Epoch 76/100\n",
      "470/470 [==============================] - 0s 62us/step - loss: 0.1450 - accuracy: 0.8511\n",
      "Epoch 77/100\n",
      "470/470 [==============================] - 0s 64us/step - loss: 0.1450 - accuracy: 0.8532\n",
      "Epoch 78/100\n",
      "470/470 [==============================] - 0s 62us/step - loss: 0.1470 - accuracy: 0.8511\n",
      "Epoch 79/100\n",
      "470/470 [==============================] - 0s 72us/step - loss: 0.1451 - accuracy: 0.8511\n",
      "Epoch 80/100\n"
     ]
    },
    {
     "name": "stdout",
     "output_type": "stream",
     "text": [
      "470/470 [==============================] - 0s 85us/step - loss: 0.1450 - accuracy: 0.8511\n",
      "Epoch 81/100\n",
      "470/470 [==============================] - 0s 81us/step - loss: 0.1449 - accuracy: 0.8532\n",
      "Epoch 82/100\n",
      "470/470 [==============================] - 0s 64us/step - loss: 0.1447 - accuracy: 0.8511\n",
      "Epoch 83/100\n",
      "470/470 [==============================] - 0s 60us/step - loss: 0.1447 - accuracy: 0.8553\n",
      "Epoch 84/100\n",
      "470/470 [==============================] - 0s 68us/step - loss: 0.1452 - accuracy: 0.8511\n",
      "Epoch 85/100\n",
      "470/470 [==============================] - 0s 62us/step - loss: 0.1445 - accuracy: 0.8574\n",
      "Epoch 86/100\n",
      "470/470 [==============================] - 0s 62us/step - loss: 0.1445 - accuracy: 0.8511\n",
      "Epoch 87/100\n",
      "470/470 [==============================] - 0s 63us/step - loss: 0.1441 - accuracy: 0.8553\n",
      "Epoch 88/100\n",
      "470/470 [==============================] - 0s 62us/step - loss: 0.1437 - accuracy: 0.8511\n",
      "Epoch 89/100\n",
      "470/470 [==============================] - 0s 87us/step - loss: 0.1437 - accuracy: 0.8532\n",
      "Epoch 90/100\n",
      "470/470 [==============================] - 0s 68us/step - loss: 0.1439 - accuracy: 0.8532\n",
      "Epoch 91/100\n",
      "470/470 [==============================] - 0s 59us/step - loss: 0.1439 - accuracy: 0.8511\n",
      "Epoch 92/100\n",
      "470/470 [==============================] - 0s 62us/step - loss: 0.1437 - accuracy: 0.8511\n",
      "Epoch 93/100\n",
      "470/470 [==============================] - 0s 66us/step - loss: 0.1429 - accuracy: 0.8511\n",
      "Epoch 94/100\n",
      "470/470 [==============================] - 0s 59us/step - loss: 0.1434 - accuracy: 0.8511\n",
      "Epoch 95/100\n",
      "470/470 [==============================] - 0s 66us/step - loss: 0.1431 - accuracy: 0.8511\n",
      "Epoch 96/100\n",
      "470/470 [==============================] - 0s 72us/step - loss: 0.1426 - accuracy: 0.8574\n",
      "Epoch 97/100\n",
      "470/470 [==============================] - 0s 72us/step - loss: 0.1424 - accuracy: 0.8511\n",
      "Epoch 98/100\n",
      "470/470 [==============================] - 0s 72us/step - loss: 0.1422 - accuracy: 0.8511\n",
      "Epoch 99/100\n",
      "470/470 [==============================] - 0s 70us/step - loss: 0.1420 - accuracy: 0.8532\n",
      "Epoch 100/100\n",
      "470/470 [==============================] - 0s 70us/step - loss: 0.1411 - accuracy: 0.8511\n"
     ]
    },
    {
     "data": {
      "text/plain": [
       "<keras.callbacks.callbacks.History at 0x16b78188288>"
      ]
     },
     "execution_count": 23,
     "metadata": {},
     "output_type": "execute_result"
    }
   ],
   "source": [
    "#폐암 수술 환자의 생존율 \n",
    "\n",
    "np.random.seed(0)\n",
    "tf.random.set_seed(0)\n",
    "\n",
    "data = np.loadtxt(\"C:/Users/castl/Desktop/2020_job_academy/machine_learning/수업 내용 정리/딥러닝/dataset/ThoraricSurgery.csv\", delimiter=\",\")\n",
    "\n",
    "X = data[:, 0:17]\n",
    "Y = data[:, 17]\n",
    "\n",
    "model = Sequential()\n",
    "model.add(Dense(30, input_dim=17, activation='relu'))\n",
    "model.add(Dense(1, activation='sigmoid'))\n",
    "\n",
    "model.compile(loss='mean_squared_error', optimizer='adam', metrics=['accuracy'])\n",
    "\n",
    "model.fit(X, Y, epochs=100, batch_size=10)"
   ]
  },
  {
   "cell_type": "code",
   "execution_count": null,
   "metadata": {},
   "outputs": [],
   "source": []
  }
 ],
 "metadata": {
  "kernelspec": {
   "display_name": "Python 3",
   "language": "python",
   "name": "python3"
  },
  "language_info": {
   "codemirror_mode": {
    "name": "ipython",
    "version": 3
   },
   "file_extension": ".py",
   "mimetype": "text/x-python",
   "name": "python",
   "nbconvert_exporter": "python",
   "pygments_lexer": "ipython3",
   "version": "3.7.6"
  }
 },
 "nbformat": 4,
 "nbformat_minor": 4
}

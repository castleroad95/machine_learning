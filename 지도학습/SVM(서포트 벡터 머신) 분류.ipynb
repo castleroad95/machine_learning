{
 "cells": [
  {
   "cell_type": "markdown",
   "metadata": {},
   "source": [
    "# 서포트 벡터 머신(SVM: Support Vector Machine)\n",
    "\n",
    "- 분류에 사용할 수 있는 강력한 머신러닝 지도 학습 모델\n",
    "- 결정 경계(decision boundary), 분류를 위한 기준 선 정의 모델\n",
    "- 속성의 갯수가 늘어날수록 결정 경계도 평면이 아닌 고차원이되고 '초평면(hyperplane)' 이라고 함\n",
    "- 최적의 결정 경계는 데이터군으로부터 최대한 멀리 떨어지는 것이 좋다\n",
    "- support vetctor은 결정 경계와 가까이 있는 데이터 포인트\n",
    "\n",
    "- sckit-learn에서 SVM 모델이 오류를 어느정도 허용할 것인지 파라미터 C를 통해 지정\n",
    "- C값이 클수록 하드마진(오류 허용X)-오버피팅 문제 발생,작을수록 소프트마진(오류 허용O)-언더피팅 문제 발생\n",
    "\n",
    "- 방사 기저 함수(RBF:Radical Bias Function)를 커널 혹은 가우시안 커널이라 함\n",
    "- gamma는 결정 경계를 얼마나 유연하게 그을지 정해주는 파라미터\n",
    "- gamma 값이 크면 결정 경계를 구불구불 그어 오버피팅 초래, 작으면 결정 경계를 직선에 가깝게 그어 언더피팅 발생"
   ]
  },
  {
   "cell_type": "markdown",
   "metadata": {},
   "source": [
    "### 선형 분류기 훈련\n",
    "\n",
    "- 초평면은 n차원 공간에 있는 n-1 부분 공간으로 정의\n",
    "- SVC모델의 매개변수 C는 잘못 분류된 데이터 포인트에 부여하는 페널티\n",
    "- C가 작으면 분류기는 잘못 분류된 데이터 포인트 허용\n",
    "- C가 크면 분류기는 잘못 분류된 데이터에 큰 페널티 부과"
   ]
  },
  {
   "cell_type": "code",
   "execution_count": 1,
   "metadata": {},
   "outputs": [],
   "source": [
    "from sklearn.svm import LinearSVC\n",
    "from sklearn import datasets\n",
    "from sklearn.preprocessing import StandardScaler\n",
    "import numpy as np\n",
    "\n",
    "iris = datasets.load_iris() # 데이터 로드\n",
    "features = iris.data[:100,:2] #두 개의 클래스와 두 개의 특성만 선택\n",
    "target = iris.target[:100]\n",
    "\n",
    "scaler = StandardScaler() # 특성 표준화\n",
    "features_standardized = scaler.fit_transform(features)\n",
    "svc = LinearSVC(C=1.0) # 서포트 벡터 분류기 생성\n",
    "model = svc.fit(features_standardized, target) # 모델 훈련"
   ]
  },
  {
   "cell_type": "code",
   "execution_count": 2,
   "metadata": {},
   "outputs": [
    {
     "data": {
      "image/png": "[encoded data removed]",
      "text/plain": [
       "<Figure size 432x288 with 1 Axes>"
      ]
     },
     "metadata": {
      "needs_background": "light"
     },
     "output_type": "display_data"
    },
    {
     "data": {
      "text/plain": [
       "array([-6.84224149])"
      ]
     },
     "execution_count": 2,
     "metadata": {},
     "output_type": "execute_result"
    }
   ],
   "source": [
    "from matplotlib import pyplot as plt\n",
    "\n",
    "# 클래스를 색으로 구분한 산점도를 그림\n",
    "color = [\"black\" if c == 0 else \"lightgrey\" for c in target]\n",
    "plt.scatter(features_standardized[:,0], features_standardized[:,1], c=color)\n",
    "\n",
    "# 초평면 생성\n",
    "w = svc.coef_[0]\n",
    "a = -w[0] / w[1]\n",
    "xx = np.linspace(-2.5, 2.5)\n",
    "yy = a * xx - (svc.intercept_[0]) / w[1]\n",
    "\n",
    "plt.plot(xx, yy) # 초평면을 그림\n",
    "plt.axis(\"off\"), plt.show();\n",
    "\n",
    "new_observation = [[ -2, 3]] # 새로운 샘플 생성\n",
    "svc.predict(new_observation) # 새로운 샘플의 클래스 예측\n",
    "svc.decision_function(new_observation)"
   ]
  },
  {
   "cell_type": "markdown",
   "metadata": {},
   "source": [
    "### 커널을 사용해 선형적으로 구분되지 않는 클래스 다루기\n",
    "\n",
    "- 클래스가 선형적으로 구분되지 않을때 비선형 결정 경계를 만들기 위해 커널 함수를 사용한 서포트 벡터 머신으로 훈련"
   ]
  },
  {
   "cell_type": "code",
   "execution_count": 4,
   "metadata": {},
   "outputs": [],
   "source": [
    "from sklearn.svm import SVC\n",
    "from sklearn import datasets\n",
    "from sklearn.preprocessing import StandardScaler\n",
    "import numpy as np\n",
    "\n",
    "np.random.seed(0) # 랜덤 시드를 지정\n",
    "features = np.random.randn(200, 2) # 두 개의 특성 생성\n",
    "\n",
    "# XOR 연산을 사용하여 선형적으로 구분할 수 없는 클래스 생성\n",
    "target_xor = np.logical_xor(features[:, 0] > 0, features[:, 1] > 0)\n",
    "target = np.where(target_xor, 0, 1)\n",
    "\n",
    "# 방사 기저 함수 커널을 사용한 서포트 벡터 머신 생성\n",
    "svc = SVC(kernel=\"rbf\", random_state=0, gamma=1, C=1)\n",
    "model = svc.fit(features, target) # 분류기 훈련"
   ]
  },
  {
   "cell_type": "code",
   "execution_count": 5,
   "metadata": {},
   "outputs": [
    {
     "data": {
      "image/png": "[encoded data removed]",
      "text/plain": [
       "<Figure size 432x288 with 1 Axes>"
      ]
     },
     "metadata": {
      "needs_background": "light"
     },
     "output_type": "display_data"
    }
   ],
   "source": [
    "# 샘플과 결정 경계 그림\n",
    "from matplotlib.colors import ListedColormap\n",
    "import matplotlib.pyplot as plt\n",
    "\n",
    "def plot_decision_regions(X, y, classifier):\n",
    "    cmap = ListedColormap((\"red\", \"blue\"))\n",
    "    xx1, xx2 = np.meshgrid(np.arange(-3, 3, 0.02), np.arange(-3, 3, 0.02))\n",
    "    Z = classifier.predict(np.array([xx1.ravel(), xx2.ravel()]).T)\n",
    "    Z = Z.reshape(xx1.shape)\n",
    "    plt.contourf(xx1, xx2, Z, alpha=0.1, cmap=cmap)\n",
    "    \n",
    "    for idx, cl in enumerate(np.unique(y)):\n",
    "        plt.scatter(x=X[y == cl, 0], y=X[y == cl, 1],\n",
    "                    alpha=0.8, c=cmap.colors[idx],marker=\"+\", label=cl)\n",
    "\n",
    "# 선형 커널을 사용한 서포트 벡터 분류기 생성\n",
    "svc_linear = SVC(kernel=\"linear\", random_state=0, C=1)\n",
    "svc_linear.fit(features, target) # 모델 훈련\n",
    "plot_decision_regions(features, target, classifier=svc_linear) # 샘플과 초평면을 그림\n",
    "plt.axis(\"off\"), plt.show();"
   ]
  },
  {
   "cell_type": "markdown",
   "metadata": {},
   "source": [
    "### 예측 확률 계산\n",
    "\n",
    "- 사이킷런의 SVC 클래스를 사용할 때 provavility=True로 지정하여 모델을 훈련하면 predict_proba()에서 보정된 확률 확인 가능"
   ]
  },
  {
   "cell_type": "code",
   "execution_count": 6,
   "metadata": {},
   "outputs": [
    {
     "data": {
      "text/plain": [
       "array([[0.00582525, 0.96725691, 0.02691783]])"
      ]
     },
     "execution_count": 6,
     "metadata": {},
     "output_type": "execute_result"
    }
   ],
   "source": [
    "from sklearn.svm import SVC\n",
    "from sklearn import datasets\n",
    "from sklearn.preprocessing import StandardScaler\n",
    "import numpy as np\n",
    "\n",
    "iris = datasets.load_iris() # 데이터 로드\n",
    "features = iris.data\n",
    "target = iris.target\n",
    "\n",
    "scaler = StandardScaler() # 특성 표준화\n",
    "features_standardized = scaler.fit_transform(features)\n",
    "\n",
    "# 서포트 벡터 분류기 객체 생성\n",
    "svc = SVC(kernel=\"linear\", probability=True, random_state=0)\n",
    "model = svc.fit(features_standardized, target) # 분류기 훈련\n",
    "new_observation = [[.4, .4, .4, .4]] #New Sample Data\n",
    "model.predict_proba(new_observation) # 예측 확률 확인"
   ]
  },
  {
   "cell_type": "markdown",
   "metadata": {},
   "source": [
    "### 서포트 벡터 식별\n",
    "\n",
    "- 사이킷런의 SVC를 훈련하고 support_vectors_를 사용해 모델에 있는 서포트 벡터 식별\n",
    "- support_속성을 사용하여 서포트 벡터의 인덱스 확인 가능"
   ]
  },
  {
   "cell_type": "code",
   "execution_count": 7,
   "metadata": {},
   "outputs": [
    {
     "data": {
      "text/plain": [
       "array([23, 41, 57, 98])"
      ]
     },
     "execution_count": 7,
     "metadata": {},
     "output_type": "execute_result"
    }
   ],
   "source": [
    "from sklearn.svm import SVC\n",
    "from sklearn import datasets\n",
    "from sklearn.preprocessing import StandardScaler\n",
    "import numpy as np\n",
    "\n",
    "iris = datasets.load_iris() #데이터 로드\n",
    "features = iris.data[:100,:] #두 개의 클래스만 선택\n",
    "target = iris.target[:100]\n",
    "\n",
    "scaler = StandardScaler() # 특성을 표준화\n",
    "features_standardized = scaler.fit_transform(features)\n",
    "\n",
    "svc = SVC(kernel=\"linear\", random_state=0) # 서포트 벡터 분류기 객체 생성\n",
    "model = svc.fit(features_standardized, target) # 분류기 훈련\n",
    "\n",
    "model.support_vectors_ # 서포트 벡터를 확인\n",
    "model.support_"
   ]
  },
  {
   "cell_type": "markdown",
   "metadata": {},
   "source": [
    "### 불균형한 클래스 다루기\n",
    "\n",
    "- class_weight 매개변수를 사용 작은 클래스를 잘못 분류했을 때 페널티 증가"
   ]
  },
  {
   "cell_type": "code",
   "execution_count": 8,
   "metadata": {},
   "outputs": [],
   "source": [
    "from sklearn.svm import SVC\n",
    "from sklearn import datasets\n",
    "from sklearn.preprocessing import StandardScaler\n",
    "import numpy as np\n",
    "\n",
    "iris = datasets.load_iris() #데이터 로드\n",
    "features = iris.data[:100,:] #두 개의 클래스만 선택\n",
    "target = iris.target[:100]\n",
    "\n",
    "features = features[40:,:] # 처음 40개 샘플을 제거\n",
    "target = target[40:] #불균형한 클래스 만듬\n",
    "\n",
    "# 타깃 벡터에서 0이 아닌 클래스는 모두 1로 만듬\n",
    "target = np.where((target == 0), 0, 1)\n",
    "scaler = StandardScaler() # 특성을 표준화\n",
    "features_standardized = scaler.fit_transform(features)\n",
    "\n",
    "svc = SVC(kernel=\"linear\", class_weight=\"balanced\", C=1.0, random_state=0)\n",
    "model = svc.fit(features_standardized, target) # 분류기 훈련"
   ]
  }
 ],
 "metadata": {
  "kernelspec": {
   "display_name": "Python 3",
   "language": "python",
   "name": "python3"
  },
  "language_info": {
   "codemirror_mode": {
    "name": "ipython",
    "version": 3
   },
   "file_extension": ".py",
   "mimetype": "text/x-python",
   "name": "python",
   "nbconvert_exporter": "python",
   "pygments_lexer": "ipython3",
   "version": "3.7.6"
  }
 },
 "nbformat": 4,
 "nbformat_minor": 4
}
